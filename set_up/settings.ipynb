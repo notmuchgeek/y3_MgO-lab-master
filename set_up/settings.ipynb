{
 "cells": [
  {
   "cell_type": "markdown",
   "metadata": {},
   "source": [
    "## Set up ASE (calculator)"
   ]
  },
  {
   "cell_type": "markdown",
   "metadata": {},
   "source": [
    "We will ask you to do something to make things easier during the lab. You only need to run the cell below. It contains few lines of code that will change two lines from the script that ASE uses to run GULP calculations. Once the file has been modified it should not change, but if you want to be sure to have the right version, just run the cell below again and see the output message that you get."
   ]
  },
  {
   "cell_type": "code",
   "execution_count": null,
   "metadata": {},
   "outputs": [],
   "source": [
    "import os\n",
    "import ase\n",
    "from pathlib import Path\n",
    "\n",
    "gulp_path = Path(os.path.dirname(ase.__file__)) / 'calculators' / 'gulp.py'\n",
    "\n",
    "with open(gulp_path, \"r\") as f:\n",
    "    lines = f.readlines()\n",
    "    if lines[0] == '#gulp.py customised for the MgO TE lab':\n",
    "        print('The file has already been modified: you are good to go!')\n",
    "    else:\n",
    "        with open(gulp_path, \"w\") as f:\n",
    "            for line in lines:\n",
    "                if line.find('\"\"\"This module defines an ASE interface \"\"\"This module defines an ASE interface to GULP.') != -1:\n",
    "                    f.write('\"\"\"')\n",
    "                if line.strip('\\n') != '\"\"\"This module defines an ASE interface \"\"\"This module defines an ASE interface to GULP.':\n",
    "                        f.write(line)\n",
    "\n",
    "#Save the gulp.py file into a python list called 'lines'\n",
    "lines = open(gulp_path).read().splitlines()\n",
    "\n",
    "#First check if the file has already been modified. If this is the case, the first line will match\n",
    "#'The file has already been modified: you are good to go!'.\n",
    "#Otherwise, the loop looks for the two lines to modify and replaces them with the correct one\n",
    "#Finally a message to let you know that all went well is printed!\n",
    "if lines[0] == '#gulp.py customised for the MgO TE lab':\n",
    "    print('The file has already been modified: you are good to go!')   \n",
    "else:\n",
    "    for i, line in enumerate(lines):\n",
    "        if line.find(\"cell_params = self.atoms.get_cell_lengths_and_angles()\") != -1:\n",
    "            lines[i+1] = \"            s += 'cell\\\\n{0} {1} {2} {3} {4} {5}\\\\n'.format(*(np.around(cell_params,4)))\"\n",
    "        if line.find(\"self.optimized = None\") != -1:\n",
    "            lines[i+2] = \"            m = re.match(r'\\s*Total\\s*\\S+\\s*energy\\s*=\\s*(\\S+)\\s*eV', line)\"\n",
    "    open(gulp_path,'w').write(\"#gulp.py customised for the MgO TE lab\\n\")\n",
    "    open(gulp_path,'a').write('\\n'.join(lines))\n",
    "    print('The changes have been succesfully applied')"
   ]
  }
 ],
 "metadata": {
  "kernelspec": {
   "display_name": "Python 3",
   "language": "python",
   "name": "python3"
  },
  "language_info": {
   "codemirror_mode": {
    "name": "ipython",
    "version": 3
   },
   "file_extension": ".py",
   "mimetype": "text/x-python",
   "name": "python",
   "nbconvert_exporter": "python",
   "pygments_lexer": "ipython3",
   "version": "3.8.3"
  }
 },
 "nbformat": 4,
 "nbformat_minor": 2
}
