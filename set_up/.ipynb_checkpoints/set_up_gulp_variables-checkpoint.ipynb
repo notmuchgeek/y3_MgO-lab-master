{
 "cells": [
  {
   "cell_type": "markdown",
   "metadata": {},
   "source": [
    "# Set up GULP variables"
   ]
  },
  {
   "cell_type": "markdown",
   "metadata": {},
   "source": [
    "In order to run this experiment, it is necessary to set up two variables: \n",
    "\n",
    "$GULP_LIB and \n",
    "\n",
    "$ASE_GULP_COMMAND.\n",
    "\n",
    "Please click on \"Kernel\" button on the same line of \"File\" and \"Edit\",\n",
    "\n",
    "then select \"Restart & Run All\", and check the final message.\n",
    "\n",
    "If necessary, in case of ERROR, please contact the demonstators."
   ]
  },
  {
   "cell_type": "markdown",
   "metadata": {},
   "source": [
    "The enviromental variable $GULP_LIB defines the directory/folder containing the library with the interatomic potentials (force field).\n",
    "\n",
    "The enviromental variable $ASE_GULP_COMMAND defines the directory/folder containing the gulp executable.\n",
    "\n",
    "(See https://wiki.fysik.dtu.dk/ase/ase/calculators/gulp.html)"
   ]
  },
  {
   "cell_type": "markdown",
   "metadata": {},
   "source": [
    "# Please run all the following code cells \n",
    "\n",
    "# check the final message at the end of this page  (below the last code cell)\n",
    "\n",
    "# and ask for help in case of error."
   ]
  },
  {
   "cell_type": "markdown",
   "metadata": {},
   "source": [
    "### Initialization of logical variables for final message printing"
   ]
  },
  {
   "cell_type": "code",
   "execution_count": null,
   "metadata": {},
   "outputs": [],
   "source": [
    "l_gulp_lib = False\n",
    "l_ase_gulp_command = False"
   ]
  },
  {
   "cell_type": "markdown",
   "metadata": {},
   "source": [
    "### Import the os and glob modules to execute operating system commands."
   ]
  },
  {
   "cell_type": "code",
   "execution_count": null,
   "metadata": {},
   "outputs": [],
   "source": [
    "import os\n",
    "print(\"os module imported\")\n",
    "\n",
    "import glob\n",
    "print(\"glob module imported\")"
   ]
  },
  {
   "cell_type": "markdown",
   "metadata": {},
   "source": [
    "### Set the variables for  current and parent directories"
   ]
  },
  {
   "cell_type": "code",
   "execution_count": null,
   "metadata": {},
   "outputs": [],
   "source": [
    "#print(os.environ[\"PWD\"])\n",
    "print(\"The current folder/directory is:\")\n",
    "current_dir=os.getcwd()\n",
    "print(current_dir)\n",
    "print(\"The parent folder/diectory is:\")\n",
    "parent_dir=os.path.dirname(current_dir)\n",
    "print(parent_dir)"
   ]
  },
  {
   "cell_type": "markdown",
   "metadata": {},
   "source": [
    "### Check if the  library file is available in the current folder/directory"
   ]
  },
  {
   "cell_type": "code",
   "execution_count": null,
   "metadata": {},
   "outputs": [],
   "source": [
    "print(\"The files in the current folder are:\")\n",
    "files=os.listdir()\n",
    "print(files)"
   ]
  },
  {
   "cell_type": "code",
   "execution_count": null,
   "metadata": {},
   "outputs": [],
   "source": [
    "if \"ionic.lib\" in files:\n",
    "    if os.path.isfile(\"ionic.lib\"):\n",
    "          l_lib=True\n",
    "          print(\"The library file with the interatomic potential is available\")\n",
    "    else:\n",
    "          l_lib=False\n",
    "          print(\"ERROR: file ionic.lib is not a file - Please contact the demonstrators\")\n",
    "        \n",
    "else:\n",
    "    l_lib=False\n",
    "    print(\"ERROR: file ionic.lib not found - Please contact the demonstrators\")"
   ]
  },
  {
   "cell_type": "markdown",
   "metadata": {},
   "source": [
    "### Check if the variable $GULP_LIB is defined"
   ]
  },
  {
   "cell_type": "code",
   "execution_count": null,
   "metadata": {},
   "outputs": [],
   "source": [
    "def check_GULP_LIB():\n",
    "  try: \n",
    "    print(\"GULP_LIB =\",os.environ[\"GULP_LIB\"])\n",
    "    print(\"INFO: The enviromental variable $GULP_LIB is defined\")\n",
    "    return True\n",
    "  except:\n",
    "    print(\"WARNING: The enviromental variable $GULP_LIB is not defined\")\n",
    "    return False\n",
    "\n",
    "if l_lib == True:    \n",
    "  l_gulp_lib=check_GULP_LIB()\n",
    "  print(l_gulp_lib)"
   ]
  },
  {
   "cell_type": "markdown",
   "metadata": {},
   "source": [
    "### Set the variable $GULP_LIB"
   ]
  },
  {
   "cell_type": "code",
   "execution_count": null,
   "metadata": {},
   "outputs": [],
   "source": [
    "if l_gulp_lib == False:\n",
    "  os.environ['GULP_LIB'] = os.getcwd()\n",
    "  l_gulp_lib=check_GULP_LIB()\n",
    "  print(l_gulp_lib)"
   ]
  },
  {
   "cell_type": "code",
   "execution_count": null,
   "metadata": {},
   "outputs": [],
   "source": [
    "if l_gulp_lib == True:\n",
    "  with open(parent_dir+'/Exercises/set_mygulp_vars.py', 'w') as myfile:\n",
    "    myfile.write(\"import os\\n\"+\"os.environ['GULP_LIB'] =r'\"+os.getcwd()+\"'\")"
   ]
  },
  {
   "cell_type": "markdown",
   "metadata": {},
   "source": [
    "### Check if the gulp executable is available in the current and parent folder/directory"
   ]
  },
  {
   "cell_type": "code",
   "execution_count": null,
   "metadata": {},
   "outputs": [],
   "source": [
    "print(\"The files in the current folder/directory are:\")\n",
    "current_dir_list=os.listdir()\n",
    "print(current_dir_list)\n",
    "print(\"The files in the parent folder/directory are:\")\n",
    "parent_dir_list=os.listdir(parent_dir)\n",
    "print(parent_dir_list)\n",
    "\n",
    "parent_dir_list_glob=glob.glob(parent_dir+ \"/**\", recursive=True)\n",
    "for i in parent_dir_list_glob:\n",
    " print(i)\n"
   ]
  },
  {
   "cell_type": "code",
   "execution_count": null,
   "metadata": {},
   "outputs": [],
   "source": [
    "def check_exe(exe):\n",
    "    print(\"  check_exe:\",exe)\n",
    "    if os.path.isfile(exe) and os.access(exe, os.X_OK):\n",
    "       return True\n",
    "    else:\n",
    "       return False\n",
    "\n",
    "\n",
    "l_gulp_exe =  \"\"\n",
    "\n",
    "import platform\n",
    "if platform.system() == \"Windows\":\n",
    "  print(\"This is a Windows platform; the gulp executable is named: gulp.exe\")\n",
    "  gulp_exe_name = \"gulp.exe\"\n",
    "else:\n",
    "  print(\"This is a Mac/Linux platform; the gulp executable is named: gulp\")\n",
    "  gulp_exe_name = \"gulp\"\n",
    "\n",
    "\n",
    "searching = True\n",
    "while (searching == True):\n",
    "#      print(\"Current\")\n",
    "#      for item in current_dir_list:\n",
    "#             print(item)\n",
    "#             if \"gulp\" in item:\n",
    "#                 l_gulp_exe = check_exe(item)\n",
    "#                 if l_gulp_exe:\n",
    "#                   print(\"The executable gulp is available in the current folder/directory\")\n",
    "#                   print(item)\n",
    "#                   mygulp=item\n",
    "#                   searching = False\n",
    "#                   break\n",
    "\n",
    "#      if searching == False: \n",
    "#         break\n",
    "        \n",
    "#      print(\"Parent\")\n",
    "#      for item in parent_dir_list:\n",
    "#             if \"gulp\" in item:\n",
    "#                 print(item)\n",
    "#                 l_gulp_exe = check_exe(item)\n",
    "#                 if l_gulp_exe:\n",
    "#                   print(\"The executable gulp is available in the parent folder/directory\")\n",
    "#                   print(item)\n",
    "#                   mygulp=item\n",
    "#                   searching = False\n",
    "#                   break \n",
    "                \n",
    "     if searching == False: \n",
    "        break\n",
    "\n",
    "     for item in parent_dir_list_glob:\n",
    "            if gulp_exe_name == os.path.basename(item):\n",
    "                print(item)\n",
    "                l_gulp_exe = check_exe(item)\n",
    "                if l_gulp_exe:\n",
    "                  print(\"The executable gulp is available in the parent folder/directory\")\n",
    "                  print(item)\n",
    "                  mygulp=item\n",
    "                  searching = False\n",
    "                  break \n",
    "                \n",
    "                \n",
    "     if searching == False: \n",
    "        break\n",
    "               \n",
    "     print(\"ERROR: the executable gulp is not found - Please contact the demonstrators\")\n",
    "     searching = False\n",
    "     l_gulp_exe = False\n",
    "\n",
    "\n",
    "print(mygulp)       \n",
    "print(l_gulp_exe)"
   ]
  },
  {
   "cell_type": "markdown",
   "metadata": {},
   "source": [
    "### Check if the variable $ASE_GULP_COMMAND is defined"
   ]
  },
  {
   "cell_type": "code",
   "execution_count": null,
   "metadata": {},
   "outputs": [],
   "source": [
    "def check_ASE_GULP_COMMAND():\n",
    "  try: \n",
    "    print(\"ASE_GULP_COMMAND =\",os.environ[\"ASE_GULP_COMMAND\"])\n",
    "    print(\"INFO: The enviromental variable $ASE_GULP_COMMAND is defined\")\n",
    "    return True\n",
    "  except:\n",
    "    print(\"WARNING: The enviromental variable $ASE_GULP_COMMANDis not defined\")\n",
    "    return False\n",
    "    \n",
    "if l_gulp_exe == True:    \n",
    "  l_ase_gulp_command=check_ASE_GULP_COMMAND()\n",
    "  print(l_ase_gulp_command)\n",
    "\n"
   ]
  },
  {
   "cell_type": "markdown",
   "metadata": {},
   "source": [
    "### Set the variable $ASE_GULP_COMMAND"
   ]
  },
  {
   "cell_type": "code",
   "execution_count": null,
   "metadata": {},
   "outputs": [],
   "source": [
    "if l_ase_gulp_command == False and l_gulp_exe == True:\n",
    "  os.environ['ASE_GULP_COMMAND'] = mygulp+\" < PREFIX.gin > PREFIX.got\"\n",
    "  l_ase_gulp_command=check_ASE_GULP_COMMAND()\n",
    "  print(l_ase_gulp_command)"
   ]
  },
  {
   "cell_type": "code",
   "execution_count": null,
   "metadata": {},
   "outputs": [],
   "source": [
    "if l_ase_gulp_command == True:\n",
    "    with open(parent_dir+'/Exercises/set_mygulp_vars.py', 'a') as myfile:\n",
    "       myfile.write(\"\\nos.environ['ASE_GULP_COMMAND'] =r'\"+mygulp+\" < PREFIX.gin > PREFIX.got'\")"
   ]
  },
  {
   "cell_type": "markdown",
   "metadata": {},
   "source": [
    "### Final message"
   ]
  },
  {
   "cell_type": "code",
   "execution_count": null,
   "metadata": {},
   "outputs": [],
   "source": [
    "if ( l_lib and l_gulp_lib and l_gulp_exe and l_ase_gulp_command ):\n",
    "  print(\"Variables are set properly - All good! - Move to next session\")\n",
    "else:\n",
    "  print(\"ERROR: check previous code cell output messages\")"
   ]
  }
 ],
 "metadata": {
  "kernelspec": {
   "display_name": "Python 3 (ipykernel)",
   "language": "python",
   "name": "python3"
  },
  "language_info": {
   "codemirror_mode": {
    "name": "ipython",
    "version": 3
   },
   "file_extension": ".py",
   "mimetype": "text/x-python",
   "name": "python",
   "nbconvert_exporter": "python",
   "pygments_lexer": "ipython3",
   "version": "3.9.13"
  },
  "toc": {
   "base_numbering": 1,
   "nav_menu": {},
   "number_sections": true,
   "sideBar": true,
   "skip_h1_title": false,
   "title_cell": "Table of Contents",
   "title_sidebar": "Contents",
   "toc_cell": false,
   "toc_position": {},
   "toc_section_display": true,
   "toc_window_display": false
  }
 },
 "nbformat": 4,
 "nbformat_minor": 4
}
