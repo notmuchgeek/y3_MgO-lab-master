{
 "cells": [
  {
   "cell_type": "markdown",
   "metadata": {},
   "source": [
    "# Compile gulp for Mac/Linux"
   ]
  },
  {
   "cell_type": "markdown",
   "metadata": {},
   "source": [
    "**Execute the following code cells , in case of any error, please contact a demonstrator.**"
   ]
  },
  {
   "cell_type": "code",
   "execution_count": null,
   "metadata": {},
   "outputs": [],
   "source": [
    "import os\n",
    "#print(\"The current folder is:\")\n",
    "#print(os.getcwd())\n",
    "current_dir=os.getcwd()\n",
    "#print(\"The parent folder/diectory is:\")\n",
    "parent_dir=os.path.dirname(current_dir) \n",
    "#print(parent_dir)\n",
    "gulp_dir= parent_dir + \"/gulp_dir\"\n",
    "print(\"The gulp_dir folder/directory is:\")\n",
    "print(gulp_dir)"
   ]
  },
  {
   "cell_type": "markdown",
   "metadata": {},
   "source": [
    "Once the path is printed, proceed with the following cell boxes."
   ]
  },
  {
   "cell_type": "code",
   "execution_count": null,
   "metadata": {},
   "outputs": [],
   "source": [
    "gulp_downloaded_absolute_path=gulp_dir+'/gulp-6.0.tar'\n",
    "print(\"Checking if the downloaded gulp file exists\")\n",
    "if os.path.isfile(gulp_downloaded_absolute_path):\n",
    "    print(\"File found: \",gulp_downloaded_absolute_path)\n",
    "    print(\"Move to the next cell\")\n",
    "else:\n",
    "    print(\"ERROR: file not found: \",gulp_downloaded_absolute_path)"
   ]
  },
  {
   "cell_type": "markdown",
   "metadata": {},
   "source": [
    "Execute the following to extract the files and to create the excutable.\n",
    "\n",
    "Please be patient, it might take at least 5 minutes.\n",
    "\n",
    "In case of problem, please contact the demonstrators."
   ]
  },
  {
   "cell_type": "code",
   "execution_count": null,
   "metadata": {},
   "outputs": [],
   "source": [
    "import datetime\n",
    "\n",
    "print(\"Extraction and compilation started:\")\n",
    "time_start=datetime.datetime.now()\n",
    "print(\"Start:\",time_start)\n",
    "!cd {gulp_dir};tar -xvzf {gulp_dir}/gulp-6.0.tar; cd {gulp_dir}/gulp-6.0/Src; ./mkgulp\n",
    "time_end=datetime.datetime.now()\n",
    "print(\"End:\",time_end)\n",
    "print(\"Extraction and compilation done!\")\n",
    "print(\"Time: \",time_end-time_start)"
   ]
  },
  {
   "cell_type": "code",
   "execution_count": null,
   "metadata": {},
   "outputs": [],
   "source": [
    "gulp_executable_absolute_path=gulp_dir+'/gulp-6.0/Src/gulp'\n",
    "print(\"Checking if the executable gulp file exists\")\n",
    "\n",
    "if os.path.isfile(gulp_executable_absolute_path):\n",
    "    print(\"File found: \",gulp_executable_absolute_path)\n",
    "    print(\"Move to the next session\")\n",
    "else:\n",
    "    print(\"ERROR: file not found: \",gulp_executable_absolute_path)\n",
    "    raise Exception(\"ERROR: Please ask for help to a demonstrator\")"
   ]
  }
 ],
 "metadata": {
  "kernelspec": {
   "display_name": "Python 3 (ipykernel)",
   "language": "python",
   "name": "python3"
  },
  "language_info": {
   "codemirror_mode": {
    "name": "ipython",
    "version": 3
   },
   "file_extension": ".py",
   "mimetype": "text/x-python",
   "name": "python",
   "nbconvert_exporter": "python",
   "pygments_lexer": "ipython3",
   "version": "3.9.13"
  },
  "toc": {
   "base_numbering": 1,
   "nav_menu": {},
   "number_sections": true,
   "sideBar": true,
   "skip_h1_title": false,
   "title_cell": "Table of Contents",
   "title_sidebar": "Contents",
   "toc_cell": false,
   "toc_position": {},
   "toc_section_display": true,
   "toc_window_display": false
  }
 },
 "nbformat": 4,
 "nbformat_minor": 4
}
