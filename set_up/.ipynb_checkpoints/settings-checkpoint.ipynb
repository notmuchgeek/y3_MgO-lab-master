{
 "cells": [
  {
   "cell_type": "markdown",
   "metadata": {},
   "source": [
    "## Set up ASE (calculator)"
   ]
  },
  {
   "cell_type": "markdown",
   "metadata": {},
   "source": [
    "We will ask you to do something to make things easier during the lab. You only need to run the cell below. It contains few lines of code that will change two lines from the script that ASE uses to run GULP calculations. Once the file has been modified it should not change, but if you want to be sure to have the right version, just run the cell below again and see the output message that you get."
   ]
  },
  {
   "cell_type": "code",
   "execution_count": 1,
   "metadata": {},
   "outputs": [
    {
     "ename": "ModuleNotFoundError",
     "evalue": "No module named 'ase'",
     "output_type": "error",
     "traceback": [
      "\u001b[1;31m---------------------------------------------------------------------------\u001b[0m",
      "\u001b[1;31mModuleNotFoundError\u001b[0m                       Traceback (most recent call last)",
      "\u001b[1;32m~\\AppData\\Local\\Temp\\ipykernel_22740\\363175393.py\u001b[0m in \u001b[0;36m<module>\u001b[1;34m\u001b[0m\n\u001b[0;32m      1\u001b[0m \u001b[1;32mimport\u001b[0m \u001b[0mos\u001b[0m\u001b[1;33m\u001b[0m\u001b[1;33m\u001b[0m\u001b[0m\n\u001b[1;32m----> 2\u001b[1;33m \u001b[1;32mimport\u001b[0m \u001b[0mase\u001b[0m\u001b[1;33m\u001b[0m\u001b[1;33m\u001b[0m\u001b[0m\n\u001b[0m\u001b[0;32m      3\u001b[0m \u001b[1;32mfrom\u001b[0m \u001b[0mpathlib\u001b[0m \u001b[1;32mimport\u001b[0m \u001b[0mPath\u001b[0m\u001b[1;33m\u001b[0m\u001b[1;33m\u001b[0m\u001b[0m\n\u001b[0;32m      4\u001b[0m \u001b[1;33m\u001b[0m\u001b[0m\n\u001b[0;32m      5\u001b[0m \u001b[0mgulp_path\u001b[0m \u001b[1;33m=\u001b[0m \u001b[0mPath\u001b[0m\u001b[1;33m(\u001b[0m\u001b[0mos\u001b[0m\u001b[1;33m.\u001b[0m\u001b[0mpath\u001b[0m\u001b[1;33m.\u001b[0m\u001b[0mdirname\u001b[0m\u001b[1;33m(\u001b[0m\u001b[0mase\u001b[0m\u001b[1;33m.\u001b[0m\u001b[0m__file__\u001b[0m\u001b[1;33m)\u001b[0m\u001b[1;33m)\u001b[0m \u001b[1;33m/\u001b[0m \u001b[1;34m'calculators'\u001b[0m \u001b[1;33m/\u001b[0m \u001b[1;34m'gulp.py'\u001b[0m\u001b[1;33m\u001b[0m\u001b[1;33m\u001b[0m\u001b[0m\n",
      "\u001b[1;31mModuleNotFoundError\u001b[0m: No module named 'ase'"
     ]
    }
   ],
   "source": [
    "import os\n",
    "import ase\n",
    "from pathlib import Path\n",
    "\n",
    "gulp_path = Path(os.path.dirname(ase.__file__)) / 'calculators' / 'gulp.py'\n",
    "\n",
    "with open(gulp_path, \"r\") as f:\n",
    "    lines = f.readlines()\n",
    "    if lines[0] == '#gulp.py customised for the MgO TE lab':\n",
    "        print('The file has already been modified: you are good to go!')\n",
    "    else:\n",
    "        with open(gulp_path, \"w\") as f:\n",
    "            for line in lines:\n",
    "                if line.find('\"\"\"This module defines an ASE interface \"\"\"This module defines an ASE interface to GULP.') != -1:\n",
    "                    f.write('\"\"\"')\n",
    "                if line.strip('\\n') != '\"\"\"This module defines an ASE interface \"\"\"This module defines an ASE interface to GULP.':\n",
    "                        f.write(line)\n",
    "\n",
    "#Save the gulp.py file into a python list called 'lines'\n",
    "lines = open(gulp_path).read().splitlines()\n",
    "\n",
    "#First check if the file has already been modified. If this is the case, the first line will match\n",
    "#'The file has already been modified: you are good to go!'.\n",
    "#Otherwise, the loop looks for the two lines to modify and replaces them with the correct one\n",
    "#Finally a message to let you know that all went well is printed!\n",
    "if lines[0] == '#gulp.py customised for the MgO TE lab':\n",
    "    print('The file has already been modified: you are good to go!')   \n",
    "else:\n",
    "    for i, line in enumerate(lines):\n",
    "        if line.find(\"cell_params = self.atoms.get_cell_lengths_and_angles()\") != -1:\n",
    "            lines[i+1] = \"            s += 'cell\\\\n{0} {1} {2} {3} {4} {5}\\\\n'.format(*(np.around(cell_params,4)))\"\n",
    "        if line.find(\"self.optimized = None\") != -1:\n",
    "            lines[i+2] = \"            m = re.match(r'\\s*Total\\s*\\S+\\s*energy\\s*=\\s*(\\S+)\\s*eV', line)\"\n",
    "    open(gulp_path,'w').write(\"#gulp.py customised for the MgO TE lab\\n\")\n",
    "    open(gulp_path,'a').write('\\n'.join(lines))\n",
    "    print('The changes have been succesfully applied')"
   ]
  },
  {
   "cell_type": "code",
   "execution_count": null,
   "metadata": {},
   "outputs": [],
   "source": []
  }
 ],
 "metadata": {
  "kernelspec": {
   "display_name": "Python 3 (ipykernel)",
   "language": "python",
   "name": "python3"
  },
  "language_info": {
   "codemirror_mode": {
    "name": "ipython",
    "version": 3
   },
   "file_extension": ".py",
   "mimetype": "text/x-python",
   "name": "python",
   "nbconvert_exporter": "python",
   "pygments_lexer": "ipython3",
   "version": "3.9.13"
  },
  "toc": {
   "base_numbering": 1,
   "nav_menu": {},
   "number_sections": true,
   "sideBar": true,
   "skip_h1_title": false,
   "title_cell": "Table of Contents",
   "title_sidebar": "Contents",
   "toc_cell": false,
   "toc_position": {},
   "toc_section_display": true,
   "toc_window_display": false
  }
 },
 "nbformat": 4,
 "nbformat_minor": 2
}
