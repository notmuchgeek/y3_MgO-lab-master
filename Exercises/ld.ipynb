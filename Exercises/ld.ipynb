{
 "cells": [
  {
   "cell_type": "markdown",
   "metadata": {},
   "source": [
    "# The Thermal Expansion of MgO - Lattice Dynamics"
   ]
  },
  {
   "cell_type": "markdown",
   "metadata": {},
   "source": [
    "In this part of the lab we will optimise the structure (volume) of the MgO crystal by using its free energy and see how this varies with the temperature.<br>\n",
    "You will need to input the converged grid size from the previous exercise.\n",
    "Change the temperature (T) from 0K using 100K intervals. You can do this by changing the value of \"T\" in the script below or you could use a \"for loop\", like in the previous exercise. GULP does not calculate the expansion of MgO for temperatures higher than 3000K.\n",
    "<br><br>"
   ]
  },
  {
   "cell_type": "code",
   "execution_count": null,
   "metadata": {},
   "outputs": [],
   "source": [
    "#INPUT TO BE PROVIDED\n",
    "\n",
    "#temperature in Kelvin\n",
    "T = \n",
    "\n",
    "# USE THE CONVERGED GRID SIZE FROM THE PREVIOUS EXERCISE\n",
    "k = \n",
    "\n",
    "#we can start from a geometry that is close to the optimised one since we are\n",
    "#going to optimise it again taking into account the effect of temperature\n",
    "a = "
   ]
  },
  {
   "cell_type": "code",
   "execution_count": null,
   "metadata": {},
   "outputs": [],
   "source": [
    "import set_mygulp_vars\n",
    "from ase.calculators.gulp import GULP\n",
    "import matplotlib.pyplot as plt\n",
    "from math import ceil\n",
    "from ase.spacegroup import crystal\n",
    "import numpy as np\n",
    "import re\n",
    "\n",
    "\n",
    "\n",
    "\n",
    "MgO_LD = crystal('MgO',basis=[[0.0,0.0,0.0],[0.5,0.5,0.5]],spacegroup=225,cellpar=[a, a, a, 90, 90, 90],primitive_cell=True)\n",
    "\n",
    "#the name of the calculation including the T\n",
    "label='mgo_LD_{}'.format(T)\n",
    "\n",
    "#setting the options fot the LD calculation\n",
    "options = ['shrink {} {} {}'.format(k, k, k), 'temperature {}'.format(T)]\n",
    "calc = GULP(label=label ,keywords='conp opti free_energy', library='ionic.lib', options=options)\n",
    "opt = calc.get_optimizer(MgO_LD)\n",
    "opt.run(fmax=0.05)\n",
    "#look for the optimised volume in the output\n",
    "for line in reversed(list(open(label+'.got'))):\n",
    "    m = re.match(r'\\s*\\S+\\s*cell volume =\\s*(\\S+)\\s*\\S+', line)\n",
    "    if m:\n",
    "        volume_f = float(m.group(1))\n",
    "        break\n",
    "#look for the free energy in the output\n",
    "first_match_found = False\n",
    "with open(label+'.got') as o:\n",
    "    lines = o.readlines()\n",
    "for i,line in enumerate(lines):\n",
    "    if line.find('  Total free energy          =         -') != -1:\n",
    "        free_energy_LD = line.split()[4]\n",
    "        if first_match_found:\n",
    "            break\n",
    "        else:\n",
    "            first_match_found = True\n",
    "    \n",
    "print('Gibbs free energy ({} K)  ='.format(T),free_energy_LD,'eV/(Unit cell)')\n",
    "print('Volume of the unit cell ({} K)  ='.format(T),volume_f,'Angstrom^3/(Unit cell)')"
   ]
  },
  {
   "cell_type": "markdown",
   "metadata": {},
   "source": [
    "**Questions**:<br>\n",
    "1. Describe your results:\n",
    "    - Plot the free energy against temperature<br>\n",
    "    - Plot the lattice constant against temperature<br>\n",
    "    - Comment on the shape of these curves.<br>\n",
    "<br>\n",
    "2. Compute the coefficient of thermal expansion for MgO<br>\n",
    "    - How does this compare to that measured? Find a measurement in the literature or on the web. Notice that many literature studies report the linear thermal expansion coefficient and not the volumetric thermal expansion coefficient that you are calculating in the lab.<br>\n",
    "    - At what temperature was the measurement made?<br>\n",
    "<br>\n",
    "\n",
    "3. Is the quasi-harmonic approximation implemented in this lab a first principle calculation?\n",
    "<br>\n",
    "4. Describe the themal expansion process in the quasi-harmonic approximation.\n",
    "    - Why is the harmonic approximation inadequate to study the thermal expansion?\n",
    "    - Hint:\n",
    "        - The difference between the harmonic approximation and the quasi-harmonic approximation is that the latter introduces a volume dependent phonon frequency. Analyse the quasi-harmonic expression:<br>\n",
    "        $F(T,V) = U_0(V) + \\sum_{k,j}\\frac{1}{2}\\hbar\\omega_{k,j}(V)+ k_BT \\sum_{k,j}[ln(1-exp(-\\frac{\\hbar\\omega_{k,j}(V)}{k_BT})]$\n",
    "    <br>\n",
    "5. As the temperature approaches the melting point of MgO, how well does the quasi-harmonic approximation represent the actual motions of the ions?<br>\n",
    "\n",
    "<br>"
   ]
  },
  {
   "cell_type": "markdown",
   "metadata": {},
   "source": [
    "<a href=\"../main.ipynb\">Main</a>   <a href=\"md.ipynb\">Next</a>"
   ]
  }
 ],
 "metadata": {
  "kernelspec": {
   "display_name": "Python 3",
   "language": "python",
   "name": "python3"
  },
  "language_info": {
   "codemirror_mode": {
    "name": "ipython",
    "version": 3
   },
   "file_extension": ".py",
   "mimetype": "text/x-python",
   "name": "python",
   "nbconvert_exporter": "python",
   "pygments_lexer": "ipython3",
   "version": "3.8.8"
  }
 },
 "nbformat": 4,
 "nbformat_minor": 2
}
