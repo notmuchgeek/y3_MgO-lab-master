{
 "cells": [
  {
   "cell_type": "code",
   "execution_count": 4,
   "id": "166c132d",
   "metadata": {},
   "outputs": [
    {
     "ename": "ModuleNotFoundError",
     "evalue": "No module named 'set_mygulp_vars'",
     "output_type": "error",
     "traceback": [
      "\u001b[1;31m---------------------------------------------------------------------------\u001b[0m",
      "\u001b[1;31mModuleNotFoundError\u001b[0m                       Traceback (most recent call last)",
      "\u001b[1;32m~\\AppData\\Local\\Temp\\ipykernel_26940\\3151341211.py\u001b[0m in \u001b[0;36m<module>\u001b[1;34m\u001b[0m\n\u001b[1;32m----> 1\u001b[1;33m \u001b[1;32mimport\u001b[0m \u001b[0mset_mygulp_vars\u001b[0m\u001b[1;33m\u001b[0m\u001b[1;33m\u001b[0m\u001b[0m\n\u001b[0m\u001b[0;32m      2\u001b[0m \u001b[1;32mfrom\u001b[0m \u001b[0mase\u001b[0m\u001b[1;33m.\u001b[0m\u001b[0mcalculators\u001b[0m\u001b[1;33m.\u001b[0m\u001b[0mgulp\u001b[0m \u001b[1;32mimport\u001b[0m \u001b[0mGULP\u001b[0m\u001b[1;33m\u001b[0m\u001b[1;33m\u001b[0m\u001b[0m\n\u001b[0;32m      3\u001b[0m \u001b[1;32mimport\u001b[0m \u001b[0mmatplotlib\u001b[0m\u001b[1;33m.\u001b[0m\u001b[0mpyplot\u001b[0m \u001b[1;32mas\u001b[0m \u001b[0mplt\u001b[0m\u001b[1;33m\u001b[0m\u001b[1;33m\u001b[0m\u001b[0m\n\u001b[0;32m      4\u001b[0m \u001b[1;32mfrom\u001b[0m \u001b[0mmath\u001b[0m \u001b[1;32mimport\u001b[0m \u001b[0mceil\u001b[0m\u001b[1;33m\u001b[0m\u001b[1;33m\u001b[0m\u001b[0m\n\u001b[0;32m      5\u001b[0m \u001b[1;32mfrom\u001b[0m \u001b[0mase\u001b[0m\u001b[1;33m.\u001b[0m\u001b[0mspacegroup\u001b[0m \u001b[1;32mimport\u001b[0m \u001b[0mcrystal\u001b[0m\u001b[1;33m\u001b[0m\u001b[1;33m\u001b[0m\u001b[0m\n",
      "\u001b[1;31mModuleNotFoundError\u001b[0m: No module named 'set_mygulp_vars'"
     ]
    }
   ],
   "source": [
    "import set_mygulp_vars\n",
    "from ase.calculators.gulp import GULP\n",
    "import matplotlib.pyplot as plt\n",
    "from math import ceil\n",
    "from ase.spacegroup import crystal\n",
    "import numpy as np\n",
    "import re"
   ]
  },
  {
   "cell_type": "code",
   "execution_count": 1,
   "id": "8005a903",
   "metadata": {},
   "outputs": [],
   "source": [
    "def get_V(T):\n",
    "\n",
    "    MgO_LD = crystal('MgO',basis=[[0.0,0.0,0.0],[0.5,0.5,0.5]],spacegroup=225,cellpar=[a, a, a, 90, 90, 90],primitive_cell=True)\n",
    "\n",
    "    #the name of the calculation including the T\n",
    "    label='mgo_LD_{}'.format(T)\n",
    "\n",
    "    #setting the options fot the LD calculation\n",
    "    options = ['shrink {} {} {}'.format(k, k, k), 'temperature {}'.format(T)]\n",
    "    calc = GULP(label=label ,keywords='conp opti free_energy', library='ionic.lib', options=options)\n",
    "    opt = calc.get_optimizer(MgO_LD)\n",
    "    opt.run(fmax=0.05)\n",
    "    #look for the optimised volume in the output\n",
    "    for line in reversed(list(open(label+'.got'))):\n",
    "        m = re.match(r'\\s*\\S+\\s*cell volume =\\s*(\\S+)\\s*\\S+', line)\n",
    "        if m:\n",
    "            volume_f = float(m.group(1))\n",
    "            break\n",
    "    #look for the free energy in the output\n",
    "    first_match_found = False\n",
    "    with open(label+'.got') as o:\n",
    "        lines = o.readlines()\n",
    "    for i,line in enumerate(lines):\n",
    "        if line.find('  Total free energy          =         -') != -1:\n",
    "            free_energy_LD = line.split()[4]\n",
    "            if first_match_found:\n",
    "                break\n",
    "            else:\n",
    "                first_match_found = True\n",
    "    Energy_list.append(float(free_energy_LD))\n",
    "    lattice_len.append(MgO_LD.get_cell_lengths_and_angles()[0])\n",
    "    #print('Temperature', T)\n",
    "    #print(MgO_LD.get_cell_lengths_and_angles()[0])\n",
    "    V_value = float(volume_f)\n",
    "    return V_value"
   ]
  },
  {
   "cell_type": "code",
   "execution_count": 2,
   "id": "66344a4e",
   "metadata": {},
   "outputs": [],
   "source": [
    "# define the function for gradient calculation\n",
    "def grad(func,x0,step):\n",
    "    y0 = func(x0)\n",
    "    y1 = func(x0+step)\n",
    "    grad_value = (y1-y0)/(step)\n",
    "    return grad_value"
   ]
  },
  {
   "cell_type": "code",
   "execution_count": 3,
   "id": "c59853d2",
   "metadata": {},
   "outputs": [
    {
     "ename": "NameError",
     "evalue": "name 'np' is not defined",
     "output_type": "error",
     "traceback": [
      "\u001b[1;31m---------------------------------------------------------------------------\u001b[0m",
      "\u001b[1;31mNameError\u001b[0m                                 Traceback (most recent call last)",
      "\u001b[1;32m~\\AppData\\Local\\Temp\\ipykernel_26940\\1890140584.py\u001b[0m in \u001b[0;36m<module>\u001b[1;34m\u001b[0m\n\u001b[0;32m      1\u001b[0m \u001b[0mk\u001b[0m \u001b[1;33m=\u001b[0m \u001b[1;36m4\u001b[0m\u001b[1;33m\u001b[0m\u001b[1;33m\u001b[0m\u001b[0m\n\u001b[0;32m      2\u001b[0m \u001b[0ma\u001b[0m \u001b[1;33m=\u001b[0m \u001b[1;36m3\u001b[0m\u001b[1;33m\u001b[0m\u001b[1;33m\u001b[0m\u001b[0m\n\u001b[1;32m----> 3\u001b[1;33m \u001b[0mT_list\u001b[0m \u001b[1;33m=\u001b[0m \u001b[0mnp\u001b[0m\u001b[1;33m.\u001b[0m\u001b[0marange\u001b[0m\u001b[1;33m(\u001b[0m\u001b[1;36m0\u001b[0m\u001b[1;33m,\u001b[0m\u001b[1;36m2000\u001b[0m\u001b[1;33m,\u001b[0m\u001b[1;36m50\u001b[0m\u001b[1;33m)\u001b[0m\u001b[1;33m\u001b[0m\u001b[1;33m\u001b[0m\u001b[0m\n\u001b[0m\u001b[0;32m      4\u001b[0m \u001b[0mEnergy_list\u001b[0m \u001b[1;33m=\u001b[0m\u001b[1;33m[\u001b[0m\u001b[1;33m]\u001b[0m\u001b[1;33m\u001b[0m\u001b[1;33m\u001b[0m\u001b[0m\n\u001b[0;32m      5\u001b[0m \u001b[0mlattice_len\u001b[0m \u001b[1;33m=\u001b[0m \u001b[1;33m[\u001b[0m\u001b[1;33m]\u001b[0m\u001b[1;33m\u001b[0m\u001b[1;33m\u001b[0m\u001b[0m\n",
      "\u001b[1;31mNameError\u001b[0m: name 'np' is not defined"
     ]
    }
   ],
   "source": [
    "k = 4\n",
    "a = 3\n",
    "T_list = np.arange(0,2000,50)\n",
    "Energy_list =[]\n",
    "lattice_len = []\n",
    "V_list = []"
   ]
  },
  {
   "cell_type": "code",
   "execution_count": null,
   "id": "aebaf514",
   "metadata": {},
   "outputs": [],
   "source": [
    "T_list_thermal = T_list\n",
    "V_list_thermal = V_list\n",
    "print('T_list_thermal:',T_list_thermal)\n",
    "print('V_list_thermal:',V_list_thermal)\n",
    "T_list_thermal = np.array(T_list_thermal)\n",
    "V_list_thermal = np.array(V_list_thermal)"
   ]
  },
  {
   "cell_type": "code",
   "execution_count": null,
   "id": "e8c29363",
   "metadata": {},
   "outputs": [],
   "source": [
    "\n",
    "\n",
    "\n",
    "alpha_list = []\n",
    "for i in T_list:\n",
    "    alpha = grad(get_V, i, 0.01)/float(X_Y_Spline(i+0.01))\n",
    "    alpha_list.append(alpha)\n",
    "    \n",
    "plt.title(\"Thermal Expansion Coefficient against Temperature\\n\")\n",
    "\n",
    "plt.plot(T_list, alpha_list)\n",
    "\n",
    "plt.ylabel('Thermal Expansion Coefficient (K-1)')\n",
    "plt.xlabel('T (K)')\n",
    "plt.show()   "
   ]
  },
  {
   "cell_type": "code",
   "execution_count": null,
   "id": "86bff64b",
   "metadata": {},
   "outputs": [],
   "source": []
  }
 ],
 "metadata": {
  "kernelspec": {
   "display_name": "Python 3 (ipykernel)",
   "language": "python",
   "name": "python3"
  },
  "language_info": {
   "codemirror_mode": {
    "name": "ipython",
    "version": 3
   },
   "file_extension": ".py",
   "mimetype": "text/x-python",
   "name": "python",
   "nbconvert_exporter": "python",
   "pygments_lexer": "ipython3",
   "version": "3.9.13"
  },
  "toc": {
   "base_numbering": 1,
   "nav_menu": {},
   "number_sections": true,
   "sideBar": true,
   "skip_h1_title": false,
   "title_cell": "Table of Contents",
   "title_sidebar": "Contents",
   "toc_cell": false,
   "toc_position": {},
   "toc_section_display": true,
   "toc_window_display": false
  }
 },
 "nbformat": 4,
 "nbformat_minor": 5
}
