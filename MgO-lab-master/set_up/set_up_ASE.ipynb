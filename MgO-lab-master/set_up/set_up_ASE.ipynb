{
 "cells": [
  {
   "cell_type": "markdown",
   "metadata": {},
   "source": [
    "# Set up ASE (installation)"
   ]
  },
  {
   "cell_type": "code",
   "execution_count": 1,
   "metadata": {
    "scrolled": true
   },
   "outputs": [
    {
     "name": "stdout",
     "output_type": "stream",
     "text": [
      "ASE is not available - Try to install it - Version: 3.19.1\n",
      "^C\n",
      "Installation done - move to next session.\n"
     ]
    }
   ],
   "source": [
    "#this ase version has been tested\n",
    "ase_version_suggested=\"3.19.1\"\n",
    "tested_ase_version=[\"3.16.2\",\"3.17.0\",\"3.18.0\",\"3.18.1\",\"3.18.2\",\"3.19.0\",\"3.19.1\"]\n",
    "\n",
    "\n",
    "from packaging import version\n",
    "\n",
    "try:\n",
    "    import ase\n",
    "    print(\"ASE imported\")\n",
    "    print(\"The version of the ase module installed is:\",ase.__version__)\n",
    "    \n",
    "    if str(ase.__version__) in tested_ase_version: \n",
    "      print(\"Your version was succefully tested.\")\n",
    "      print(\"All good! - Move to next session.\")\n",
    "    else:\n",
    "      print(\"Your version was not tested for this experiment.\")\n",
    "      if version.parse(ase.__version__) < version.parse(ase_version_suggested):\n",
    "        print(\"Your version will be updated. New version:\",ase_version_suggested)\n",
    "        !conda install -y -c conda-forge ase={ase_version_suggested}\n",
    "        print(\"Installation done - move to next session.\")\n",
    "      else: \n",
    "        print(\"Try to install a suggested version:\",ase_version_suggested)\n",
    "        !conda install -y -c conda-forge ase={ase_version_suggested}\n",
    "        print(\"Installation done - move to next session.\")      \n",
    "     \n",
    "\n",
    "    \n",
    "except:\n",
    "    print(\"ASE is not available - Try to install it - Version:\",ase_version_suggested)\n",
    "    !conda install -y -c conda-forge ase={ase_version_suggested}\n",
    "    print(\"Installation done - move to next session.\")"
   ]
  },
  {
   "cell_type": "code",
   "execution_count": null,
   "metadata": {},
   "outputs": [],
   "source": []
  }
 ],
 "metadata": {
  "kernelspec": {
   "display_name": "Python 3",
   "language": "python",
   "name": "python3"
  },
  "language_info": {
   "codemirror_mode": {
    "name": "ipython",
    "version": 3
   },
   "file_extension": ".py",
   "mimetype": "text/x-python",
   "name": "python",
   "nbconvert_exporter": "python",
   "pygments_lexer": "ipython3",
   "version": "3.8.3"
  }
 },
 "nbformat": 4,
 "nbformat_minor": 4
}
