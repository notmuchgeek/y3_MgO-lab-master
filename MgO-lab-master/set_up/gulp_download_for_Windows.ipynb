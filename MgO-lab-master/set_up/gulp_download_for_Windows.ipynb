{
 "cells": [
  {
   "cell_type": "markdown",
   "metadata": {},
   "source": [
    "# Download gulp for Windows "
   ]
  },
  {
   "cell_type": "markdown",
   "metadata": {},
   "source": [
    "\n",
    " Download version 4.3 which has the executable for Windows."
   ]
  },
  {
   "cell_type": "markdown",
   "metadata": {},
   "source": [
    "Go to http://gulp.curtin.edu.au/gulp/request.cfm?rel=download\n",
    "\n",
    "and type your imperial college email (see picture below) and click \"Send\""
   ]
  },
  {
   "cell_type": "markdown",
   "metadata": {},
   "source": [
    "![gulp_webpage](gulp_download/gulp_webpage.png)"
   ]
  },
  {
   "cell_type": "markdown",
   "metadata": {},
   "source": [
    "An email, with the subject \"Gulp Download Request\", will be sent to you with further instructions on how to complete your download request.\n",
    "\n",
    "This operation will take a few minutes. \n",
    "\n",
    "Check your Spam folder in case you have not received it.\n",
    "\n",
    "Please follow the link in the email to complete your download request.\n",
    "You will be directed to a webpage with the box below"
   ]
  },
  {
   "cell_type": "markdown",
   "metadata": {},
   "source": [
    "![gulp_webpage2](gulp_download/gulp_webpage2.png)"
   ]
  },
  {
   "cell_type": "markdown",
   "metadata": {},
   "source": [
    "In the box, below \"Version\", choose 4.3 and then click on \"Select Version\".\n",
    "\n",
    "Then, below \"File to download\",\n",
    "\n",
    "-> select \"PC Windows\" for Windows\n",
    "\n",
    "Once done, click \"Download selected file\" in order to start the download.\n",
    "\n",
    "See picture below."
   ]
  },
  {
   "cell_type": "markdown",
   "metadata": {},
   "source": [
    "![gulp_webpage3](gulp_download/gulp_webpage3.png)"
   ]
  },
  {
   "cell_type": "markdown",
   "metadata": {},
   "source": [
    "The file 4.3.pcwindows.zip will be downloaded."
   ]
  },
  {
   "cell_type": "markdown",
   "metadata": {},
   "source": [
    "**Execute the following code cell to get the gulp_dir directory/folder** where to copy 4.3.pcwindows.zip"
   ]
  },
  {
   "cell_type": "code",
   "execution_count": null,
   "metadata": {},
   "outputs": [],
   "source": [
    "import os\n",
    "#print(\"The current folder is:\")\n",
    "#print(os.getcwd())\n",
    "current_dir=os.getcwd()\n",
    "#print(\"The parent folder/diectory is:\")\n",
    "parent_dir=os.path.dirname(current_dir) \n",
    "#print(parent_dir)\n",
    "gulp_dir= parent_dir + \"/gulp_dir\"\n",
    "print(\"The gulp_dir folder/directory is:\")\n",
    "print(gulp_dir)"
   ]
  },
  {
   "cell_type": "markdown",
   "metadata": {},
   "source": [
    "Copy the downloaded file (4.3.pcwindows.zip) in the gulp_dir directory/folder printed above.\n",
    "\n",
    "You need to follow these steps:\n",
    "<li>go in your Downloads folder, \n",
    "<li>then look for 4.3.pcwindows.zip, \n",
    "<li>right-click and select \"Copy\", \n",
    "<li>then go in the gulp_dir folder above and right-click and select \"Paste\".\n",
    "\n",
    "Once done, come back to this jupyter-notebook and proceed with the following cell boxes."
   ]
  },
  {
   "cell_type": "code",
   "execution_count": null,
   "metadata": {},
   "outputs": [],
   "source": [
    "gulp_downloaded_absolute_path=gulp_dir+'/4.3.pcwindows.zip'\n",
    "print(\"Checking if the downloaded gulp file exists\")\n",
    "\n",
    "if os.path.isfile(gulp_downloaded_absolute_path):\n",
    "    print(\"File found: \",gulp_downloaded_absolute_path)\n",
    "else:\n",
    "    print(\"ERROR: file not found: \",gulp_downloaded_absolute_path)\n",
    "    raise Exception(\"ERROR: Please ask for help to a demonstrator\")    \n",
    "    \n",
    "try: \n",
    "    print(\"Trying to unzip the file:\",gulp_downloaded_absolute_path)\n",
    "    import zipfile\n",
    "    with zipfile.ZipFile(gulp_downloaded_absolute_path,\"r\") as zip_ref:\n",
    "         zip_ref.extractall(gulp_dir)\n",
    "    print(\"Done!\")\n",
    "    \n",
    "except:\n",
    "    print(\"ERROR: Please ask for help to a demonstrator\")"
   ]
  },
  {
   "cell_type": "code",
   "execution_count": null,
   "metadata": {},
   "outputs": [],
   "source": [
    "gulp_executable_absolute_path=gulp_dir+'/gulp-4.3/Exe/gulp.exe'\n",
    "print(\"Checking if the executable gulp file exists\")\n",
    "\n",
    "if os.path.isfile(gulp_executable_absolute_path):\n",
    "    print(\"File found: \",gulp_executable_absolute_path)\n",
    "    print(\"Move to the next session\")\n",
    "else:\n",
    "    print(\"ERROR: file not found: \",gulp_executable_absolute_path)\n",
    "    raise Exception(\"ERROR: Please ask for help to a demonstrator\")"
   ]
  }
 ],
 "metadata": {
  "kernelspec": {
   "display_name": "Python 3",
   "language": "python",
   "name": "python3"
  },
  "language_info": {
   "codemirror_mode": {
    "name": "ipython",
    "version": 3
   },
   "file_extension": ".py",
   "mimetype": "text/x-python",
   "name": "python",
   "nbconvert_exporter": "python",
   "pygments_lexer": "ipython3",
   "version": "3.8.3"
  }
 },
 "nbformat": 4,
 "nbformat_minor": 4
}
