{
 "cells": [
  {
   "cell_type": "markdown",
   "metadata": {},
   "source": [
    "# Download gulp for Mac/Linux"
   ]
  },
  {
   "cell_type": "markdown",
   "metadata": {},
   "source": [
    "\n",
    " Download version 4.3 which has the executable for Windows and also source code."
   ]
  },
  {
   "cell_type": "markdown",
   "metadata": {},
   "source": [
    "Go to http://gulp.curtin.edu.au/gulp/request.cfm?rel=download\n",
    "\n",
    "and type your imperial college email (see picture below) and click \"Send\""
   ]
  },
  {
   "cell_type": "markdown",
   "metadata": {},
   "source": [
    "![gulp_webpage](gulp_download/gulp_webpage.png)"
   ]
  },
  {
   "cell_type": "markdown",
   "metadata": {},
   "source": [
    "An email, with the subject \"Gulp Download Request\", will be sent to you with further instructions on how to complete your download request.\n",
    "\n",
    "This operation will take a few minutes. \n",
    "\n",
    "Check your Spam folder in case you have not received it.\n",
    "\n",
    "Please follow the link in the email to complete your download request.\n",
    "You will be directed to a webpage with the box below"
   ]
  },
  {
   "cell_type": "markdown",
   "metadata": {},
   "source": [
    "![gulp_webpage2](gulp_download/gulp_webpage2.png)"
   ]
  },
  {
   "cell_type": "markdown",
   "metadata": {},
   "source": [
    "In the box, below \"Version\", choose 4.3 and then click on \"Select Version\".\n",
    "\n",
    "Then, below \"File to download\",\n",
    "\n",
    "-> select \"Source code\" for Mac/Linux\n",
    "\n",
    "Once done, click \"Download selected file\" in order to start the download."
   ]
  },
  {
   "cell_type": "markdown",
   "metadata": {},
   "source": [
    "**For Mac/Linux** The file gulp-4.3.tgz will be downloaded."
   ]
  },
  {
   "cell_type": "markdown",
   "metadata": {},
   "source": [
    "**Execute the following code cell to get the gulp_dir directory/folder** where to copy gulp-4.3.tgz"
   ]
  },
  {
   "cell_type": "code",
   "execution_count": null,
   "metadata": {},
   "outputs": [],
   "source": [
    "import os\n",
    "#print(\"The current folder is:\")\n",
    "#print(os.getcwd())\n",
    "current_dir=os.getcwd()\n",
    "#print(\"The parent folder/diectory is:\")\n",
    "parent_dir=os.path.dirname(current_dir) \n",
    "#print(parent_dir)\n",
    "gulp_dir= parent_dir + \"/gulp_dir\"\n",
    "print(\"The gulp_dir folder/directory is:\")\n",
    "print(gulp_dir)"
   ]
  },
  {
   "cell_type": "markdown",
   "metadata": {},
   "source": [
    "**For Mac/Linux** Copy the file gulp-4.3.tgz in gulp_dir directory/folder printed above.\n",
    "\n",
    "You need to these operations:\n",
    "<li>go in your Downloads folder, \n",
    "<li>then look for gulp-4.3.tgz, \n",
    "<li>right-click and select \"Copy\", \n",
    "<li>then go in the gulp_dir folder above and right-click and select \"Paste\".\n",
    "\n",
    "Once done, come back to this jupyter-notebook and proceed with the following cell boxes."
   ]
  },
  {
   "cell_type": "code",
   "execution_count": null,
   "metadata": {},
   "outputs": [],
   "source": [
    "gulp_downloaded_absolute_path=gulp_dir+'/gulp-4.3.tgz'\n",
    "print(\"Checking if the downloaded gulp file exists\")\n",
    "if os.path.isfile(gulp_downloaded_absolute_path):\n",
    "    print(\"File found: \",gulp_downloaded_absolute_path)\n",
    "    print(\"Move to the next cell\")\n",
    "else:\n",
    "    print(\"ERROR: file not found: \",gulp_downloaded_absolute_path)"
   ]
  },
  {
   "cell_type": "markdown",
   "metadata": {},
   "source": [
    "Execute the following to extract the files and to create the excutable.\n",
    "\n",
    "Please be patient, it might take at least 5 minutes.\n",
    "\n",
    "In case of problem, please contact the demonstrators."
   ]
  },
  {
   "cell_type": "code",
   "execution_count": null,
   "metadata": {},
   "outputs": [],
   "source": [
    "import datetime\n",
    "\n",
    "print(\"Extraction and compilation started:\")\n",
    "time_start=datetime.datetime.now()\n",
    "print(\"Start:\",time_start)\n",
    "!cd {gulp_dir};tar -xvzf {gulp_dir}/gulp-4.3.tgz; cd {gulp_dir}/gulp-4.3/Src; make\n",
    "time_end=datetime.datetime.now()\n",
    "print(\"End:\",time_end)\n",
    "print(\"Extraction and compilation done!\")\n",
    "print(\"Time: \",time_end-time_start)"
   ]
  },
  {
   "cell_type": "code",
   "execution_count": null,
   "metadata": {},
   "outputs": [],
   "source": [
    "gulp_executable_absolute_path=gulp_dir+'/gulp-4.3/Src/gulp'\n",
    "print(\"Checking if the executable gulp file exists\")\n",
    "\n",
    "if os.path.isfile(gulp_executable_absolute_path):\n",
    "    print(\"File found: \",gulp_executable_absolute_path)\n",
    "    print(\"Move to the next session\")\n",
    "else:\n",
    "    print(\"ERROR: file not found: \",gulp_executable_absolute_path)\n",
    "    raise Exception(\"ERROR: Please ask for help to a demonstrator\")"
   ]
  }
 ],
 "metadata": {
  "kernelspec": {
   "display_name": "Python 3",
   "language": "python",
   "name": "python3"
  },
  "language_info": {
   "codemirror_mode": {
    "name": "ipython",
    "version": 3
   },
   "file_extension": ".py",
   "mimetype": "text/x-python",
   "name": "python",
   "nbconvert_exporter": "python",
   "pygments_lexer": "ipython3",
   "version": "3.8.3"
  }
 },
 "nbformat": 4,
 "nbformat_minor": 4
}
