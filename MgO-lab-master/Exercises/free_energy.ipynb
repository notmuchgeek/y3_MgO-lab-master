{
 "cells": [
  {
   "cell_type": "markdown",
   "metadata": {},
   "source": [
    "# Computing the Free Energy - The Harmonic Approximation"
   ]
  },
  {
   "cell_type": "markdown",
   "metadata": {},
   "source": [
    "In this exercise you will calculate the Gibbs free energy of a MgO crystal. As you will observe, the free energy depends on the number of vibrations that are taken into account. Therefore, the first step is a convergence test wrt the number of k points sampled (like you did in the previous exercise for the DOS).\n",
    "### GRID CONVERGENCE TEST\n",
    "Input one by one the grid size *s* you want to use. If you feel confident with python you could write a \"for loop\" to automatise the procedure. (Hint: a for loop was used in the previous part of the lab for the DOS convergence tests).\n",
    "<br><br>\n"
   ]
  },
  {
   "cell_type": "code",
   "execution_count": null,
   "metadata": {},
   "outputs": [],
   "source": [
    "# INPUT TO BE PROVIDED: THE SHRINKING FACTOR/GRID SIZE YOU WANT TO TEST\n",
    "k = \n",
    "\n",
    "#INSERT HERE THE VALUE FOR THE OPTIMISED LATTICE CONSTANT\n",
    "a_opt = "
   ]
  },
  {
   "cell_type": "code",
   "execution_count": null,
   "metadata": {
    "scrolled": true
   },
   "outputs": [],
   "source": [
    "# first the imports, always\n",
    "import set_mygulp_vars\n",
    "import numpy as np\n",
    "import matplotlib.pyplot as plt\n",
    "from ase.calculators.gulp import GULP\n",
    "from math import ceil\n",
    "from ase.spacegroup import crystal\n",
    "from time import time\n",
    "\n",
    "\n",
    "\n",
    "# the name of the calculation\n",
    "label = 'mgo_G'.format()\n",
    "\n",
    "MgO_G = crystal('MgO',basis=[[0.0,0.0,0.0],[0.5,0.5,0.5]],spacegroup=225,cellpar=[a_opt, a_opt, a_opt, 90, 90, 90],primitive_cell=True)\n",
    "\n",
    "#setting the options to run the free energy calculation\n",
    "options = ['temperature 0','shrink {} {} {}'.format(k,k,k),'output phon '+label]\n",
    "calc = GULP(label=label ,keywords='conp free_energy', library='ionic.lib',options=options)\n",
    "calc.set(options = options)\n",
    "MgO_G.calc = calc\n",
    "b = time()\n",
    "MgO_G.get_potential_energy()\n",
    "e = time()-b\n",
    "\n",
    "#read the output\n",
    "with open('mgo_G.got') as o:\n",
    "    lines = o.readlines()\n",
    "\n",
    "#look for the free energy in the output\n",
    "for i,line in enumerate(lines):\n",
    "    if line.find('  Total free energy          =         ') != -1:\n",
    "        free_energy = line.split()[4]\n",
    "        break\n",
    "    \n",
    "print('Gibbs free energy (0 K) {}x{}x{} grid  ='.format(k,k,k),free_energy,'eV/(Unit cell)')\n",
    "print('Time to calculate the free energy: ',round(e,4),'s')\n"
   ]
  },
  {
   "cell_type": "markdown",
   "metadata": {},
   "source": [
    "**Questions:**\n",
    "\n",
    "1. How does the free energy vary with the grid size?\n",
    "    - Which grid size is appropriate for calculations accurate to 1 meV, 0.01 meV and 0.0001 meV per cell?\n",
    "2. Would this optimal grid size for MgO be optimal for a calculation on:\n",
    "    - similar oxide like CaO?\n",
    "    - metal like Ag?"
   ]
  },
  {
   "cell_type": "markdown",
   "metadata": {},
   "source": [
    "<a href=\"../main.ipynb\">Main</a>   <a href=\"ld.ipynb\">Next</a>"
   ]
  }
 ],
 "metadata": {
  "kernelspec": {
   "display_name": "Python 3",
   "language": "python",
   "name": "python3"
  },
  "language_info": {
   "codemirror_mode": {
    "name": "ipython",
    "version": 3
   },
   "file_extension": ".py",
   "mimetype": "text/x-python",
   "name": "python",
   "nbconvert_exporter": "python",
   "pygments_lexer": "ipython3",
   "version": "3.8.8"
  }
 },
 "nbformat": 4,
 "nbformat_minor": 2
}
