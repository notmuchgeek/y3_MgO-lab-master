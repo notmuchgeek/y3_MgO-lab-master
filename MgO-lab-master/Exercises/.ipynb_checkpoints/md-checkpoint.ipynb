{
 "cells": [
  {
   "cell_type": "markdown",
   "metadata": {},
   "source": [
    "# The Thermal Expansion of MgO - Molecular Dynamics"
   ]
  },
  {
   "cell_type": "markdown",
   "metadata": {},
   "source": [
    "Finally, we are going to calculate the volume of the MgO crystal, at different temperatures, by using Molecular Dynamics (MD). <br>\n",
    "\n",
    "Molecular Dynamics is a technique for allowing a system to evolve in time according to Newton's second law. The atoms simply follow the trajectories that they would in reality and we can then compute properties as time averages of their behaviour.<br>\n",
    "\n",
    "First of all an initial configuration and initial velocities need to be assigned - here the initial configuration will be that of ideal MgO and the velocities will be random but scaled to produce roughly the target temperature.<br>\n",
    "\n",
    "MD computes the final volume at the requested temperature by using the Verlet algorithm:\n",
    "\n",
    "* Compute the forces on the atoms (F).\n",
    "    \n",
    "* Compute the accelerations a=F/m\n",
    "    \n",
    "* Update the velocities: Vnew = Vold + a * dt\n",
    "    \n",
    "* Update the positions of the atoms: Rnew = Rold + Vnew * dt\n",
    "    \n",
    "* Repeat until average properties like E and T settle down\n",
    "    \n",
    "* Once settled measure some properties.\n",
    "\n",
    "First, run the calculation for T=100K, a window will open to show you the cell used for this calculation. Then animate the motion of the atoms by using the cell below.<br>\n",
    "\n",
    "Increase the T from 100K in 100K intervals. As in the previous exercise you can do so by manually changing the T value in the input below, or you can write a for loop that will do that for you.\n",
    "\n",
    "\n",
    "**Please note that the simulation will takes few minutes**"
   ]
  },
  {
   "cell_type": "code",
   "execution_count": 4,
   "metadata": {},
   "outputs": [],
   "source": [
    "#INPUT TO BE PROVIDED\n",
    "#SELECT THE TEMPERATURE\n",
    "T = 0\n",
    "\n",
    "# generate the crystal starting from a geometry that is close to the optimised one\n",
    "a = 4.212"
   ]
  },
  {
   "cell_type": "code",
   "execution_count": 5,
   "metadata": {},
   "outputs": [
    {
     "ename": "FileNotFoundError",
     "evalue": "[Errno 2] No such file or directory: 'mgo_SC_MD_0_1.grs'",
     "output_type": "error",
     "traceback": [
      "\u001b[1;31m---------------------------------------------------------------------------\u001b[0m",
      "\u001b[1;31mFileNotFoundError\u001b[0m                         Traceback (most recent call last)",
      "\u001b[1;32m~\\AppData\\Local\\Temp\\ipykernel_38420\\3380902722.py\u001b[0m in \u001b[0;36m<module>\u001b[1;34m\u001b[0m\n\u001b[0;32m     50\u001b[0m \u001b[0mtraj\u001b[0m \u001b[1;33m=\u001b[0m \u001b[0mTrajectory\u001b[0m\u001b[1;33m(\u001b[0m\u001b[1;34m'{}K.trj'\u001b[0m\u001b[1;33m.\u001b[0m\u001b[0mformat\u001b[0m\u001b[1;33m(\u001b[0m\u001b[0mlabel\u001b[0m\u001b[1;33m)\u001b[0m\u001b[1;33m,\u001b[0m \u001b[1;34m'w'\u001b[0m\u001b[1;33m)\u001b[0m\u001b[1;33m\u001b[0m\u001b[1;33m\u001b[0m\u001b[0m\n\u001b[0;32m     51\u001b[0m \u001b[1;32mfor\u001b[0m \u001b[0mt\u001b[0m \u001b[1;32min\u001b[0m \u001b[0mrange\u001b[0m\u001b[1;33m(\u001b[0m\u001b[1;36m1\u001b[0m\u001b[1;33m,\u001b[0m\u001b[1;36m52\u001b[0m\u001b[1;33m)\u001b[0m\u001b[1;33m:\u001b[0m\u001b[1;33m\u001b[0m\u001b[1;33m\u001b[0m\u001b[0m\n\u001b[1;32m---> 52\u001b[1;33m     \u001b[1;32mwith\u001b[0m \u001b[0mopen\u001b[0m\u001b[1;33m(\u001b[0m\u001b[1;34m'{}_{}.grs'\u001b[0m\u001b[1;33m.\u001b[0m\u001b[0mformat\u001b[0m\u001b[1;33m(\u001b[0m\u001b[0mlabel\u001b[0m\u001b[1;33m,\u001b[0m\u001b[0mt\u001b[0m\u001b[1;33m)\u001b[0m\u001b[1;33m)\u001b[0m \u001b[1;32mas\u001b[0m \u001b[0mo\u001b[0m\u001b[1;33m:\u001b[0m\u001b[1;33m\u001b[0m\u001b[1;33m\u001b[0m\u001b[0m\n\u001b[0m\u001b[0;32m     53\u001b[0m         \u001b[0mpos_out\u001b[0m \u001b[1;33m=\u001b[0m \u001b[0mo\u001b[0m\u001b[1;33m.\u001b[0m\u001b[0mreadlines\u001b[0m\u001b[1;33m(\u001b[0m\u001b[1;33m)\u001b[0m\u001b[1;33m\u001b[0m\u001b[1;33m\u001b[0m\u001b[0m\n\u001b[0;32m     54\u001b[0m         \u001b[0mnew_cell\u001b[0m \u001b[1;33m=\u001b[0m \u001b[0mnp\u001b[0m\u001b[1;33m.\u001b[0m\u001b[0mzeros\u001b[0m\u001b[1;33m(\u001b[0m\u001b[1;33m(\u001b[0m\u001b[1;36m3\u001b[0m\u001b[1;33m,\u001b[0m \u001b[1;36m3\u001b[0m\u001b[1;33m)\u001b[0m\u001b[1;33m,\u001b[0m \u001b[0mdtype\u001b[0m\u001b[1;33m=\u001b[0m\u001b[0mfloat\u001b[0m\u001b[1;33m)\u001b[0m\u001b[1;33m\u001b[0m\u001b[1;33m\u001b[0m\u001b[0m\n",
      "\u001b[1;31mFileNotFoundError\u001b[0m: [Errno 2] No such file or directory: 'mgo_SC_MD_0_1.grs'"
     ]
    }
   ],
   "source": [
    "#the imports first, always\n",
    "import set_mygulp_vars\n",
    "import numpy as np\n",
    "import re\n",
    "import os\n",
    "from ase.build import make_supercell\n",
    "from ase.io import Trajectory\n",
    "from ase.build import cut\n",
    "from os import remove\n",
    "from ase.spacegroup import crystal\n",
    "from ase.visualize import view\n",
    "from ase.calculators.gulp import GULP\n",
    "\n",
    "\n",
    "\n",
    "#generate the conventional cell\n",
    "MgO = crystal('MgO',basis=[[0.0,0.0,0.0],[0.5,0.5,0.5]],spacegroup=225,cellpar=[a, a, a, 90, 90, 90],primitive_cell=False)\n",
    "\n",
    "#select the size of the supercell (NxNxN times the conventional cell)\n",
    "supercell = 2\n",
    "#create the supercell\n",
    "MgO_SC_MD = make_supercell(MgO, supercell*np.identity(3))\n",
    "#visualise the cell\n",
    "view(MgO_SC_MD)\n",
    "#name of the calculation\n",
    "label='mgo_SC_MD_{}'.format(T)\n",
    "#select the options for the calculations\n",
    "options = [\n",
    "'integrator leapfrog verlet',\n",
    "'ensemble npt 0.005 0.005',\n",
    "'temperature {}'.format(T),\n",
    "'equil 0.50 ps',\n",
    "'produ 0.50 ps',\n",
    "'timestep 0.001 ps',\n",
    "'sample 0.005 ps',\n",
    "'iterations 5 ',\n",
    "'dump every 5 noover {}.grs'.format(label)]\n",
    "#run the calculation\n",
    "calc = GULP(label=label,keywords='conp md', library='ionic.lib', options=options)\n",
    "MgO_SC_MD.calc = calc\n",
    "MgO_SC_MD.get_potential_energy()\n",
    "#look for the optimised volume in the output\n",
    "for line in reversed(list(open(label+'.got'))):\n",
    "    a = re.match(r'\\s*Cell volume\\s*\\S+\\s*\\S+\\s*=\\s*(\\S+)\\s*(\\S+)', line)\n",
    "    if a:\n",
    "        V_final = a.group(2)\n",
    "        print(T, ' (K) - Optimised Volume = ', a.group(2))\n",
    "        break\n",
    "#write the trajectory file to show the movement of the atoms at the temperature of the simulation\n",
    "traj = Trajectory('{}K.trj'.format(label), 'w')    \n",
    "for t in range(1,52):\n",
    "    with open('{}_{}.grs'.format(label,t)) as o:\n",
    "        pos_out = o.readlines()\n",
    "        new_cell = np.zeros((3, 3), dtype=float)\n",
    "        new_pos = np.zeros((MgO_SC_MD.get_number_of_atoms(), 3), dtype=float)\n",
    "        for i,line in enumerate(pos_out):\n",
    "            m =  re.match(r'vectors', line)\n",
    "            if m:\n",
    "                for j in range(0,3):\n",
    "                    new_cell[j] = [float(x) for x in pos_out[i+j+1].split()]\n",
    "            n = re.match(r'cartesian',line)\n",
    "            if n:\n",
    "                for j in range(0,MgO_SC_MD.get_number_of_atoms()):\n",
    "                    first = pos_out[i+j+1].split()\n",
    "                    first = first[2:5]\n",
    "                    new_pos[j] = [float(x) for x in pos_out[i+j+1].split()[2:5]]    \n",
    "        MgO_SC_MD.set_cell(new_cell)\n",
    "        MgO_SC_MD.set_positions(new_pos)\n",
    "        MgO_SC_MD_out = MgO_SC_MD\n",
    "        MgO_SC_MD_out = cut(MgO_SC_MD, origo=(MgO_SC_MD.get_center_of_mass(scaled=True)),extend=1.01)\n",
    "        traj.write(MgO_SC_MD_out)\n",
    "traj.close()\n",
    "#removing the files we don't need anymore to leave the directory clean\n",
    "for i in range(1,52):\n",
    "    if os.path.exists('./mgo_SC_MD_{}_{}.grs'.format(T,i)):\n",
    "        os.remove('./mgo_SC_MD_{}_{}.grs'.format(T,i))\n",
    "    else:\n",
    "        break\n"
   ]
  },
  {
   "cell_type": "code",
   "execution_count": 6,
   "metadata": {},
   "outputs": [],
   "source": [
    "#use this cell to animate the motion of the atoms. \n",
    "#You will have to change the name of the .trj file\n",
    "#by updating the value of the temperature\n",
    "! ase gui mgo_SC_MD_300K.trj 2> tmp"
   ]
  },
  {
   "cell_type": "markdown",
   "metadata": {},
   "source": [
    "**Questions**:<br>\n",
    "1. Why do Molecular Dynamics simulations require a supercell, while Lattice Dynamics simulations can be performed with the primitive cell?<br>\n",
    "<br>\n",
    "2. Is the supercell we are using in Molecular Dynamics large enough? Explain why and design (additional calculations are not required) an exercise that validates the size of the cell. <br>\n",
    "    <br>\n",
    "3. Replot your data from the quasi-harmonic approximation calculations as cell volume per formula unit vs temperature; add some points from the MD runs at a few suitable temperatures. Calculate the thermal expansion coefficient for MD data.<br>\n",
    "    - How does the thermal expansion predicted by MD compare to that predicted by the quasi-harmonic approximation  and with experimental values?<br>\n",
    "    - Why do the two methods produce different answers? How does the difference depend on temperature?<br>\n",
    "    \n",
    "    - What would happen to the cell volume at very high temperature in MD?<br>"
   ]
  },
  {
   "cell_type": "markdown",
   "metadata": {},
   "source": [
    "<a href=\"../main.ipynb\">Main</a>  "
   ]
  }
 ],
 "metadata": {
  "kernelspec": {
   "display_name": "Python 3 (ipykernel)",
   "language": "python",
   "name": "python3"
  },
  "language_info": {
   "codemirror_mode": {
    "name": "ipython",
    "version": 3
   },
   "file_extension": ".py",
   "mimetype": "text/x-python",
   "name": "python",
   "nbconvert_exporter": "python",
   "pygments_lexer": "ipython3",
   "version": "3.9.13"
  },
  "toc": {
   "base_numbering": 1,
   "nav_menu": {},
   "number_sections": true,
   "sideBar": true,
   "skip_h1_title": false,
   "title_cell": "Table of Contents",
   "title_sidebar": "Contents",
   "toc_cell": false,
   "toc_position": {},
   "toc_section_display": true,
   "toc_window_display": false
  }
 },
 "nbformat": 4,
 "nbformat_minor": 2
}
