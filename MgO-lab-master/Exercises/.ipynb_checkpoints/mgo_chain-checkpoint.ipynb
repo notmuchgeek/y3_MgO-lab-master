{
 "cells": [
  {
   "cell_type": "markdown",
   "metadata": {},
   "source": [
    "# Phonons of a MgO chain (1D) "
   ]
  },
  {
   "cell_type": "markdown",
   "metadata": {},
   "source": [
    "\n",
    "\n",
    "### EXERCISE\n",
    "- First run the following lines of code. This will create a MgO chain and calculate the phonons. It should not be modified, all the control options (**k** point and supercell creation) are in the subsequent cells. Even if the cell should not be modified, every line has been commented for you in order to understand what the code is doing. (If you cannot see it, run the cell again).\n",
    "Then move to the next cell to animate the phonons you are interested in visualising. \n",
    "<br><br>\n",
    "The MgO chain is only periodic along the $x$ direction. Systems with dimensionality lower than three can still be simulated by using a 3D periodic cell with the inclusion of a vacuum region. For example, in the following exercise, the MgO chain is simulated through a cell whose length along the x direction is the optimised distance between atoms in the chain and has a 10 Angrstrom length along the other two directions. This means that the replicas of the chain will be far enough to ensure there is no interaction among them. \n",
    "<br>\n",
    "\n",
    "**Notice that the k points are in fractional coordinates with respect to the lattice vectors in the reciprocal space. \n",
    "\n"
   ]
  },
  {
   "cell_type": "code",
   "execution_count": 1,
   "metadata": {},
   "outputs": [
    {
     "name": "stdout",
     "output_type": "stream",
     "text": [
      "Done. Move to the next cells\n"
     ]
    }
   ],
   "source": [
    "# THIS CELL SHOULD NOT BE MODIFIED\n",
    "# the imports first, always\n",
    "import set_mygulp_vars\n",
    "import numpy as np\n",
    "import matplotlib.pyplot as plt\n",
    "import re\n",
    "import os\n",
    "from ase.io.trajectory import Trajectory\n",
    "from math import pi\n",
    "from ase.spacegroup import crystal\n",
    "from ase.calculators.gulp import GULP\n",
    "from warnings import filterwarnings\n",
    "#This is just to make the output look nice, you can ingore the line.\n",
    "filterwarnings('ignore')\n",
    "\n",
    "#Here we are defining a function called animate_phonons that will be used in the next code cell\n",
    "#to display the motion of the atoms for the selected phonons.\n",
    "def animate_phonons(atoms,label,k_point,supercell,modes):\n",
    "    #read the phonon eigenvectors (the displacement of the atoms) in the eigen_out file\n",
    "    with open('{}.eig'.format(label)) as o:\n",
    "        eigen_out = o.readlines()\n",
    "    #the k point coordinates were passed as a string, now we need to transform it into a np array\n",
    "    k_point = np.array([float(x) for x in k_point.split()])\n",
    "    \n",
    "    n_cells = np.prod(supercell)\n",
    "\n",
    "    #Calculation of the phase factor for the supercell\n",
    "    ind = np.indices(supercell).reshape(3, -1)\n",
    "    phase_f = np.exp(2.j * pi * np.dot(k_point, ind))\n",
    "    phase_f= phase_f.repeat(len(atoms))\n",
    "\n",
    "    #the mode indices were passed as a string, now we need to transform it into a list\n",
    "    modes = [int(x) for x in modes.split()]\n",
    "    #Another format modification in order to find the k point in the output\n",
    "    k_point = [format(x, '.6f') for x in k_point]\n",
    "    # repeat the unit cell in order to create the supercell\n",
    "    atoms = atoms * np.array(supercell)\n",
    "    #center the structure (this is for visualisation purposes)\n",
    "    atoms.center()\n",
    "    #now read the displacement at the selected k point for the six modes\n",
    "    #and write that to a trajectory file (.trj), which is the one read by view\n",
    "    for mode in modes:\n",
    "        disp = np.zeros((N_atoms, 3), dtype=complex)\n",
    "        for i,line in enumerate(eigen_out):\n",
    "            m = re.match(r'K point at \\s*{}\\s*{}\\s*{}'.format(k_point[0],k_point[1],k_point[2]), line)\n",
    "            if m:\n",
    "                for j in range(N_atoms):\n",
    "                    n = (mode-1)*(N_atoms+2) + 3\n",
    "                    eigenvec = eigen_out[i+n+j].split()\n",
    "                    if len(eigenvec) == 3:\n",
    "                        eigenvec = np.array([complex(float(eigenvec[i]),float(0.0)) for i in range(0,3)])    \n",
    "                    elif len(eigenvec) == 6:\n",
    "                        eigenvec = np.array([complex(float(eigenvec[i]),float(eigenvec[i+3])) for i in range(0,3)])\n",
    "                    disp[j] =eigenvec \n",
    "        tot_disp = np.vstack(n_cells * [disp]) * phase_f[:, np.newaxis]\n",
    "        tot_disp /= 10\n",
    "        traj = Trajectory('{}_mode{}.trj'.format(label,mode), 'w')\n",
    "        for x in np.linspace(0, 2 * pi, 30, endpoint=False):\n",
    "            atoms.set_positions((atoms.get_positions() + np.exp(1.j * x) *\n",
    "                                         tot_disp).real)\n",
    "            traj.write(atoms)\n",
    "        traj.close()\n",
    "\n",
    "#create the structure and calculate the phonons\n",
    "basis = [[0.0,0.0,0.0],[0.5,0.0,0.0]]\n",
    "#this lattice parameter was optimised for the MgO chain\n",
    "a = 3.47026\n",
    "#in order to keep a three dimensional cell, a large (b=c=10Angstrom) empy space is added around the MgO chain.\n",
    "#This is a standard procedure in computational materials science to simulate surfaces or polymers.\n",
    "atoms = crystal('MgO',basis=basis,spacegroup=1,cellpar=[a, 10, 10, 90, 90, 90],primitive_cell=False) \n",
    "N_atoms = atoms.get_number_of_atoms()\n",
    "\n",
    "#calculate the phonons of the MgO chain by using the primitive cell\n",
    "label = 'mgo_chain'\n",
    "#n of points where the phonons are calculated along the path specified in options.\n",
    "n_k_ch = 10\n",
    "options = ['shrink 10 1 1','dispersion 1 {}'.format(n_k_ch), '-1.0 0.0 0.0 to 0.0 0.0 0.0 to 1.0 0.0 0.0','output phon '+label, 'output eig '+label]\n",
    "\n",
    "#run the calculation\n",
    "calc = GULP(label=label ,keywords='conp phon eigenvectors', library='ionic.lib',options=options)\n",
    "atoms.calc = calc\n",
    "atoms.get_potential_energy()\n",
    "\n",
    "outputs = [label+'.eig',label+'.disp',label+'.dens']\n",
    "outputs = [label+'.disp',label+'.dens']\n",
    "for file in outputs:\n",
    "    if os.path.exists(file):\n",
    "        os.remove(file)\n",
    "        \n",
    "        \n",
    "print(\"Done. Move to the next cells\")"
   ]
  },
  {
   "cell_type": "markdown",
   "metadata": {},
   "source": [
    "The two code cells below can be used to see the list of k points you can animate. Note that our MgO chain is only periodic along 1 dimension (the x axis) but we get a list with 3 components ($k_{x}$, $k_{y}$, $k_{z}$). This is because the chain is inside a 3-dimensional space and thus can vibrate in any of the 3 dimensions. Despite this, since it is only periodic in 1 dimension the $k_{y}$ and $k_{z}$ are 0.  \n",
    "Notice that the **k-points are given in fractional units** (i.e., 0.5 $\\times$ **a**$^{\\star}=\\frac{\\pi}{a}$)."
   ]
  },
  {
   "cell_type": "markdown",
   "metadata": {},
   "source": [
    "### For Linux/Mac computers run:"
   ]
  },
  {
   "cell_type": "code",
   "execution_count": null,
   "metadata": {},
   "outputs": [],
   "source": [
    "# USE THIS CELL IF YOU ARE USING A LINUX/MAC COMPUTER\n",
    "! grep '0.000000  0.000000  Weight =' mgo_chain.got"
   ]
  },
  {
   "cell_type": "markdown",
   "metadata": {},
   "source": [
    "### For Windows computers run:"
   ]
  },
  {
   "cell_type": "code",
   "execution_count": 4,
   "metadata": {},
   "outputs": [
    {
     "name": "stdout",
     "output_type": "stream",
     "text": [
      "  K point      1 =  -1.000000  0.000000  0.000000  Weight =    0.071\n",
      "  K point      2 =  -0.750000  0.000000  0.000000  Weight =    0.071\n",
      "  K point      3 =  -0.500000  0.000000  0.000000  Weight =    0.071\n",
      "  K point      4 =  -0.250000  0.000000  0.000000  Weight =    0.071\n",
      "  K point      5 =   0.000000  0.000000  0.000000  Weight =    0.071\n",
      "  K point      6 =   0.250000  0.000000  0.000000  Weight =    0.071\n",
      "  K point      7 =   0.500000  0.000000  0.000000  Weight =    0.071\n",
      "  K point      8 =   0.750000  0.000000  0.000000  Weight =    0.071\n",
      "  K point      9 =   1.000000  0.000000  0.000000  Weight =    0.071\n"
     ]
    }
   ],
   "source": [
    "# USE THIS CELL IF YOU ARE USING A WINDOWS COMPUTER\n",
    "####!findstr \"0.000000  0.000000  Weight =\" mgo_chain.got\n",
    "\n",
    "with open(\"mgo_chain.got\") as f_mgo_chain:\n",
    "    mgo_chain=f_mgo_chain.readlines()\n",
    "\n",
    "for line in mgo_chain:\n",
    "  if \"0.000000  0.000000  Weight =\" in line:\n",
    "    print(line,end=\"\")"
   ]
  },
  {
   "cell_type": "markdown",
   "metadata": {},
   "source": [
    "### Animate the phonons\n",
    "Now you are ready to animate the phonons and display them through the ASE GUI:<br><br>\n",
    "*NB: you can only animate one vibration at the time. To animate a new phonon you need to stop the cell below from running either by closing the GUI or by using the stop button at the top of the notebook. If you want to see more than one phonon at the same time you can open a new window from the GUI by using the New option in the File menu and selecting the file you want to display.*\n",
    "- first select the **k** point you would like to animate. The **k** point coordinates are given, in general, as fractional coordinates of the lattice vectors of first Brillouin zone (FBZ), which is the reciprocal cell with the origin (the gamma point $\\Gamma$) at the center of the cell. Also, they usually range between -0.5 and 0.5 because all the other points of the reciprocal space can be mapped back into this region through a translation. This means that all the information of the crystal is contained into the FBZ.<br>\n",
    "You only need to input the $k_x$ component of the **k** point you want to visualise, because the MgO chain is only periodic along the $x$ direction. However, since we are using a 3D periodic cell as it is explained above, the '0.0 0.0' indices along the other two directions must be added. This is what the central part of the script does;\n",
    "- then select the right supercell to visualise the phonons at such **k** point. Also for this option only the number of repeated cells along $x$ must be specified. The '1 1' indices, meaning that the only one cell is used along the $y$ and $z$ directions is added in the script.\n",
    "- In order to display the phonons you will have to select the mode you want to visualise, at the bottom of the cell in the line '! ase gui mgo_chain_mode1.trj 2> tmp'"
   ]
  },
  {
   "cell_type": "markdown",
   "metadata": {},
   "source": [
    "* **You can use any of the calculated $k_{x}$ (shown in the previous list) as your \"k_point\".**  \n",
    "* **Bare in mind that the vibration can take place in a plane perpendicular to the projection plane and you might need to rotate the cell to observe the vibration using your right click.**"
   ]
  },
  {
   "cell_type": "code",
   "execution_count": 11,
   "metadata": {},
   "outputs": [],
   "source": [
    "#INPUT TO BE PROVIDED\n",
    "# Which k point would you like to visualise? \n",
    "#Please make sure it is in the k point list of the calculation. \n",
    "#If you are not sure run the cell above.\n",
    "#Provide the value of the k_x component \n",
    "#The number after the first =\n",
    "\n",
    "#INPUT TO BE PROVIDED (read above)\n",
    "k_point = -0.500000\n",
    "\n",
    "#How many units do you want to use to visualise the phonons?\n",
    "#you need to provide an interger positive number\n",
    "\n",
    "#INPUT TO BE PROVIDED (read above)\n",
    "supercell = 10"
   ]
  },
  {
   "cell_type": "code",
   "execution_count": 12,
   "metadata": {},
   "outputs": [],
   "source": [
    "k_point = '{}  0.000000  0.000000'.format(k_point)\n",
    "supercell = [supercell] + [1,1]\n",
    "modes = '1 2 3 4 5 6'\n",
    "\n",
    "#the following line calls the function defined in the cell above and \n",
    "#saves the trajectory (.trj) files that can be used to display the phonons throught the GUI\n",
    "animate_phonons(atoms,'mgo_chain',k_point,supercell,modes)\n",
    "\n",
    "# Write the name of the file you want to animate\n",
    "# You will have to modify the number of the mode you want to plot\n",
    "! ase gui mgo_chain_mode1.trj 1> tmp"
   ]
  },
  {
   "cell_type": "markdown",
   "metadata": {},
   "source": [
    "**Question:** <br>\n",
    "1. Relation between reciprocal and real space.\n",
    "    - Visualise the vibration with k_point = 1, 0.5 and 0.25 and compare their periodicity ($\\lambda$). You may need to increase the \"supercell\" parameter until the periodicity of the vibration fits inside your supercell.\n",
    "    - Explain the relationship between reciprocal space and real space and come up with an expression that relates the k-point in fractional units with the periodicity of the vibration ($\\lambda$)."
   ]
  },
  {
   "cell_type": "markdown",
   "metadata": {},
   "source": [
    "<a href=\"../main.ipynb\">Main</a>   <a href=\"phonons_dos.ipynb\">Next</a>"
   ]
  }
 ],
 "metadata": {
  "kernelspec": {
   "display_name": "Python 3 (ipykernel)",
   "language": "python",
   "name": "python3"
  },
  "language_info": {
   "codemirror_mode": {
    "name": "ipython",
    "version": 3
   },
   "file_extension": ".py",
   "mimetype": "text/x-python",
   "name": "python",
   "nbconvert_exporter": "python",
   "pygments_lexer": "ipython3",
   "version": "3.9.13"
  },
  "toc": {
   "base_numbering": 1,
   "nav_menu": {},
   "number_sections": true,
   "sideBar": true,
   "skip_h1_title": false,
   "title_cell": "Table of Contents",
   "title_sidebar": "Contents",
   "toc_cell": false,
   "toc_position": {},
   "toc_section_display": true,
   "toc_window_display": false
  }
 },
 "nbformat": 4,
 "nbformat_minor": 2
}
