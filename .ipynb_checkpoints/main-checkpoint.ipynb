{
 "cells": [
  {
   "cell_type": "markdown",
   "metadata": {},
   "source": [
    "# The Free Energy and Thermal Expansion of MgO\n",
    "\n",
    "**The jupyter-notebook files for this experiment were initially developed by [Dr. Bruno Camino](http://www.linkedin.com/in/bruno-camino-a11b8858) in 2018, \n",
    "<br> based on a [previous version](http://www.ch.ic.ac.uk/harrison/Teaching/Thermal_Expansion/index.html) of this teaching material designed by Prof. Nic Harrison.**\n",
    "\n",
    "**Contributions to this experiment have been recently made by Victor Chang, Carles Ràfols i Bellés and Dr Giuseppe Mallia.**"
   ]
  },
  {
   "cell_type": "markdown",
   "metadata": {},
   "source": [
    "## Aims"
   ]
  },
  {
   "cell_type": "markdown",
   "metadata": {},
   "source": [
    "The main aim of this experiment is to learn how to simulate the thermal expansion of a material.\n",
    "\n",
    "The vibrational states will be calculated and then used to compute the free energy of the crystal and to predict how the material expands when heated (by adopting therefore the quasi-harmonic approximation, also called lattice dynamics).\n",
    "<br> The vibrational properties of a crystal will be described \n",
    "by using the same formalism learnt for the electronic properties.\n",
    "<br>The concept of phonons, phonon dispersion and phonon density of states will be covered.\n",
    "\n",
    "A technique called molecular dynamics will be also used: the MgO crystal will be expanded by defining a supercell\n",
    "and, essentially, the vibrations will be reprocuded by the actual motions of the atoms."
   ]
  },
  {
   "cell_type": "markdown",
   "metadata": {},
   "source": [
    "## Instructions\n",
    "Below you can find the links to jupyter-notebook for the various parts of this computational experiment.\n",
    "In each links, there will be a set of questions you need to answer in your report,\n",
    "which should consist of the following three sections. \n",
    "\n",
    "The report has to be saved as a PDF document and submitted via Blackboard in the Turnit box.\n",
    "Additionally, all the files (jupyter-notebooks and output files) has to be submitted via Blackboard as a .zip file."
   ]
  },
  {
   "cell_type": "markdown",
   "metadata": {},
   "source": [
    "###  1. Introduction (half page max)\n",
    "1. Explain the harmonic approximation (HA).\n",
    "2. Explain the quasi-harmonic approximation (QHA) highlighting the differences with the harmonic approximation.\n",
    "3. When is it not valid to apply these approximations?\n",
    "4. What are they used for? Give examples from literature.\n",
    "5. Explain molecular dynamics (MD)."
   ]
  },
  {
   "cell_type": "markdown",
   "metadata": {},
   "source": [
    "### 2. Questions & Answers\n",
    "1. Please write down in your report the questions given in the jupyter-notebooks for the simulation part (follow the links below).\n",
    "2. Do not assume anything as basic knowledge! \n",
    "3. You have to prove that you understand the experiment."
   ]
  },
  {
   "cell_type": "markdown",
   "metadata": {},
   "source": [
    "### 3. Conclusions (half page max)\n",
    "1. Summarise and briefly discuss your results"
   ]
  },
  {
   "cell_type": "markdown",
   "metadata": {},
   "source": [
    " ## Expected plan:\n",
    " By the end of Monday you should have finish with \"Phonons of a MgO chain\".\n",
    " <br>\n",
    " By the end of Tuesday you should have finish with \"Lattice Dynamics\".\n",
    " <br>\n",
    " By the end of Thursday you should have finish all the calculations.\n",
    " <br>\n"
   ]
  },
  {
   "cell_type": "markdown",
   "metadata": {},
   "source": [
    "## Setup"
   ]
  },
  {
   "cell_type": "markdown",
   "metadata": {},
   "source": [
    "You will only need to run the following links the first time you start the experiment on a new computer.\n",
    "\n",
    "In the following sections, please ask for help to a demonstrator in case of error messages;<br>\n",
    "if the setup is successful, move on to the computational experiment,\n",
    "on which you will be assessed.\n",
    "\n",
    "The setup is NOT part of your report."
   ]
  },
  {
   "cell_type": "markdown",
   "metadata": {},
   "source": [
    "[Setup ASE (installation)](set_up/set_up_ASE.ipynb)"
   ]
  },
  {
   "cell_type": "markdown",
   "metadata": {},
   "source": [
    "[Setup ASE (calculator)](set_up/settings.ipynb)"
   ]
  },
  {
   "cell_type": "markdown",
   "metadata": {},
   "source": [
    "**Windows executable is already available. No need to download it.**"
   ]
  },
  {
   "cell_type": "markdown",
   "metadata": {},
   "source": [
    "[Compile gulp executable for Mac/Linux](set_up/gulp_compile.ipynb)"
   ]
  },
  {
   "cell_type": "markdown",
   "metadata": {},
   "source": [
    "[Setup gulp variables](set_up/set_up_gulp_variables.ipynb)"
   ]
  },
  {
   "cell_type": "markdown",
   "metadata": {},
   "source": [
    "## Computational experiment / Simulations"
   ]
  },
  {
   "cell_type": "markdown",
   "metadata": {},
   "source": [
    "**Please restart the kernel in case of error messages in the following sections.**\n",
    "\n",
    "Go in the top Menu, where you can find \"File\", \"Edit\" and \"View\"\n",
    "\n",
    "Then select \"Kernel\"\n",
    "\n",
    "Click on \"Restart\""
   ]
  },
  {
   "cell_type": "markdown",
   "metadata": {},
   "source": [
    "[Generate the structure](Exercises/generate.ipynb)\n",
    "\n",
    "[Optimise the structure](Exercises/optimisation.ipynb)\n",
    "\n",
    "Converging the Lattice dynamics parameters:\n",
    "\n",
    "- [Phonons of a MgO chain](Exercises/mgo_chain.ipynb)\n",
    "\n",
    "- [Phonons and DOS of the MgO bulk](Exercises/phonons_dos.ipynb)\n",
    "\n",
    "- [Calculation the Gibbs free energy of MgO](Exercises/free_energy.ipynb)\n",
    "\n",
    "Thermal expansion of MgO:\n",
    "\n",
    "- [Lattice dynamics](Exercises/ld.ipynb)\n",
    "\n",
    "- [Molecular dynamics](Exercises/md.ipynb)\n",
    "\n",
    "\n"
   ]
  }
 ],
 "metadata": {
  "kernelspec": {
   "display_name": "Python 3 (ipykernel)",
   "language": "python",
   "name": "python3"
  },
  "language_info": {
   "codemirror_mode": {
    "name": "ipython",
    "version": 3
   },
   "file_extension": ".py",
   "mimetype": "text/x-python",
   "name": "python",
   "nbconvert_exporter": "python",
   "pygments_lexer": "ipython3",
   "version": "3.9.13"
  },
  "toc": {
   "base_numbering": 1,
   "nav_menu": {},
   "number_sections": true,
   "sideBar": true,
   "skip_h1_title": false,
   "title_cell": "Table of Contents",
   "title_sidebar": "Contents",
   "toc_cell": false,
   "toc_position": {},
   "toc_section_display": true,
   "toc_window_display": false
  }
 },
 "nbformat": 4,
 "nbformat_minor": 2
}
